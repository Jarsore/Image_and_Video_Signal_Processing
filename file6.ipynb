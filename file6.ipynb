{
 "cells": [
  {
   "cell_type": "code",
   "execution_count": 1,
   "id": "1d3215a4",
   "metadata": {},
   "outputs": [],
   "source": [
    "#读取图片\n",
    "import cv2\n",
    "import matplotlib.pyplot as plt\n",
    "import numpy as np"
   ]
  },
  {
   "cell_type": "code",
   "execution_count": 2,
   "id": "b02e8a3e",
   "metadata": {},
   "outputs": [
    {
     "data": {
      "text/plain": [
       "True"
      ]
     },
     "execution_count": 2,
     "metadata": {},
     "output_type": "execute_result"
    }
   ],
   "source": [
    "#图像膨胀\n",
    "img = cv2.imread('./img/xrk.jpg')\n",
    "\n",
    "scale_percent = 70\n",
    "width = int(img.shape[1] * scale_percent /100)\n",
    "height = int(img.shape[0] * scale_percent /100)\n",
    "dim = (width,height)\n",
    "\n",
    "image = cv2.resize(img,dim,interpolation = cv2.INTER_AREA)\n",
    "\n",
    "kernel = np.ones((1,1),dtype = \"uint8\")/9\n",
    "dilation_1 = cv2.dilate(image,kernel,iterations = 1)\n",
    "cv2.imwrite('dilation_1.jpg',dilation_1)\n",
    "\n",
    "kernel = np.ones((2,2),dtype = \"uint8\")/9\n",
    "dilation_2 = cv2.dilate(image,kernel,iterations = 1)\n",
    "cv2.imwrite('dilation_2.jpg',dilation_2)\n",
    "\n",
    "kernel = np.ones((2,2),dtype = \"uint8\")/9\n",
    "dilation_3 = cv2.dilate(image,kernel,iterations = 3)\n",
    "cv2.imwrite('dilation_3.jpg',dilation_3)\n",
    "\n",
    "kernel = np.ones((2,2),dtype = \"uint8\")/9\n",
    "dilation_4 = cv2.dilate(image,kernel,iterations = 5)\n",
    "cv2.imwrite('dilation_4.jpg',dilation_4)\n",
    "\n",
    "kernel = np.ones((3,3),dtype = \"uint8\")/9\n",
    "dilation_5 = cv2.dilate(image,kernel,iterations = 2)\n",
    "cv2.imwrite('dilation_5.jpg',dilation_5)"
   ]
  },
  {
   "cell_type": "code",
   "execution_count": 3,
   "id": "383014b4",
   "metadata": {},
   "outputs": [
    {
     "data": {
      "text/plain": [
       "True"
      ]
     },
     "execution_count": 3,
     "metadata": {},
     "output_type": "execute_result"
    }
   ],
   "source": [
    "#图像侵蚀\n",
    "img = cv2.imread('./img/xrk.jpg')\n",
    "\n",
    "scale_percent = 70\n",
    "width = int(img.shape[1] * scale_percent /100)\n",
    "height = int(img.shape[0] * scale_percent /100)\n",
    "dim = (width,height)\n",
    "\n",
    "image = cv2.resize(img,dim,interpolation = cv2.INTER_AREA)\n",
    "\n",
    "kernel = np.ones((1,1),dtype = \"uint8\")/9\n",
    "erosion_1 = cv2.erode(image,kernel,iterations = 1)\n",
    "cv2.imwrite('erosion_1.jpg',erosion_1)\n",
    "\n",
    "kernel = np.ones((2,2),dtype = \"uint8\")/9\n",
    "erosion_2 = cv2.erode(image,kernel,iterations = 1)\n",
    "cv2.imwrite('erosion_2.jpg',erosion_2)\n",
    "\n",
    "kernel = np.ones((2,2),dtype = \"uint8\")/9\n",
    "erosion_3 = cv2.erode(image,kernel,iterations = 3)\n",
    "cv2.imwrite('erosion_3.jpg',erosion_3)\n",
    "\n",
    "kernel = np.ones((2,2),dtype = \"uint8\")/9\n",
    "erosion_4 = cv2.erode(image,kernel,iterations = 5)\n",
    "cv2.imwrite('erosion_4.jpg',erosion_4)\n",
    "\n",
    "kernel = np.ones((3,3),dtype = \"uint8\")/9\n",
    "erosion_5 = cv2.erode(image,kernel,iterations = 2)\n",
    "cv2.imwrite('erosion_5.jpg',erosion_5)"
   ]
  },
  {
   "cell_type": "code",
   "execution_count": 4,
   "id": "efb523f9",
   "metadata": {},
   "outputs": [],
   "source": [
    "#图像开运算\n",
    "src = cv2.imread('./img/xrk.jpg',cv2.IMREAD_UNCHANGED)\n",
    "\n",
    "#设置卷积核\n",
    "kernel = np.ones((5,5),np.uint8)\n",
    "\n",
    "#图像开运算\n",
    "result = cv2.morphologyEx(src,cv2.MORPH_OPEN,kernel)\n",
    "\n",
    "#显示图像\n",
    "cv2.imshow(\"src\",src)\n",
    "cv2.imshow(\"result\",result)\n",
    "\n",
    "#等待显示\n",
    "cv2.waitKey(0)\n",
    "cv2.destroyAllWindows()"
   ]
  },
  {
   "cell_type": "code",
   "execution_count": 5,
   "id": "765eeaec",
   "metadata": {},
   "outputs": [],
   "source": [
    "#设置卷积核（修改卷积核尺寸）\n",
    "kernel = np.ones((10,10),np.uint8)\n",
    "\n",
    "#图像开运算\n",
    "result = cv2.morphologyEx(src,cv2.MORPH_OPEN,kernel)\n",
    "\n",
    "#显示图像\n",
    "cv2.imshow(\"src\",src)\n",
    "cv2.imshow(\"result\",result)\n",
    "\n",
    "#等待显示\n",
    "cv2.waitKey(0)\n",
    "cv2.destroyAllWindows()"
   ]
  },
  {
   "cell_type": "code",
   "execution_count": 10,
   "id": "5306b200",
   "metadata": {},
   "outputs": [],
   "source": [
    "#图像闭运算\n",
    "src = cv2.imread('./img/xrk.jpg',cv2.IMREAD_UNCHANGED)\n",
    "\n",
    "#设置卷积核\n",
    "kernel = np.ones((5,5),np.uint8)\n",
    "\n",
    "#图像开运算\n",
    "result = cv2.morphologyEx(src,cv2.MORPH_CLOSE,kernel)\n",
    "\n",
    "#显示图像\n",
    "cv2.imshow(\"src\",src)\n",
    "cv2.imshow(\"result\",result)\n",
    "\n",
    "#等待显示\n",
    "cv2.waitKey(0)\n",
    "cv2.destroyAllWindows()"
   ]
  },
  {
   "cell_type": "code",
   "execution_count": 11,
   "id": "520523fd",
   "metadata": {},
   "outputs": [],
   "source": [
    "#设置卷积核（修改卷积核尺寸）\n",
    "kernel = np.ones((10,10),np.uint8)\n",
    "\n",
    "#图像开运算\n",
    "result = cv2.morphologyEx(src,cv2.MORPH_CLOSE,kernel)\n",
    "\n",
    "#显示图像\n",
    "cv2.imshow(\"src\",src)\n",
    "cv2.imshow(\"result\",result)\n",
    "\n",
    "#等待显示\n",
    "cv2.waitKey(0)\n",
    "cv2.destroyAllWindows()"
   ]
  },
  {
   "cell_type": "code",
   "execution_count": 12,
   "id": "1243eeda",
   "metadata": {},
   "outputs": [],
   "source": [
    "#图像梯度运算\n",
    "src = cv2.imread('./img/xrk.jpg',cv2.IMREAD_UNCHANGED)\n",
    "\n",
    "#设置卷积核\n",
    "kernel = np.ones((5,5),np.uint8)\n",
    "\n",
    "#图像开运算\n",
    "result = cv2.morphologyEx(src,cv2.MORPH_GRADIENT,kernel)\n",
    "\n",
    "#显示图像\n",
    "cv2.imshow(\"src\",src)\n",
    "cv2.imshow(\"result\",result)\n",
    "\n",
    "#等待显示\n",
    "cv2.waitKey(0)\n",
    "cv2.destroyAllWindows()"
   ]
  },
  {
   "cell_type": "code",
   "execution_count": 13,
   "id": "d4ccfb25",
   "metadata": {},
   "outputs": [],
   "source": [
    "#设置卷积核（修改卷积核尺寸）\n",
    "kernel = np.ones((10,10),np.uint8)\n",
    "\n",
    "#图像开运算\n",
    "result = cv2.morphologyEx(src,cv2.MORPH_GRADIENT,kernel)\n",
    "\n",
    "#显示图像\n",
    "cv2.imshow(\"src\",src)\n",
    "cv2.imshow(\"result\",result)\n",
    "\n",
    "#等待显示\n",
    "cv2.waitKey(0)\n",
    "cv2.destroyAllWindows()"
   ]
  },
  {
   "cell_type": "code",
   "execution_count": null,
   "id": "2c8a8e95",
   "metadata": {},
   "outputs": [],
   "source": []
  }
 ],
 "metadata": {
  "kernelspec": {
   "display_name": "Python 3 (ipykernel)",
   "language": "python",
   "name": "python3"
  },
  "language_info": {
   "codemirror_mode": {
    "name": "ipython",
    "version": 3
   },
   "file_extension": ".py",
   "mimetype": "text/x-python",
   "name": "python",
   "nbconvert_exporter": "python",
   "pygments_lexer": "ipython3",
   "version": "3.8.5"
  }
 },
 "nbformat": 4,
 "nbformat_minor": 5
}
